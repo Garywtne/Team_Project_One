{
 "cells": [
  {
   "cell_type": "code",
   "execution_count": 6,
   "id": "bf4294a8",
   "metadata": {},
   "outputs": [
    {
     "ename": "ModuleNotFoundError",
     "evalue": "No module named 'config'",
     "output_type": "error",
     "traceback": [
      "\u001b[1;31m---------------------------------------------------------------------------\u001b[0m",
      "\u001b[1;31mModuleNotFoundError\u001b[0m                       Traceback (most recent call last)",
      "\u001b[1;32m~\\AppData\\Local\\Temp/ipykernel_26260/39400214.py\u001b[0m in \u001b[0;36m<module>\u001b[1;34m\u001b[0m\n\u001b[0;32m      4\u001b[0m \u001b[1;32mfrom\u001b[0m \u001b[0mmatplotlib\u001b[0m \u001b[1;32mimport\u001b[0m \u001b[0mpyplot\u001b[0m \u001b[1;32mas\u001b[0m \u001b[0mplt\u001b[0m\u001b[1;33m\u001b[0m\u001b[1;33m\u001b[0m\u001b[0m\n\u001b[0;32m      5\u001b[0m \u001b[1;32mfrom\u001b[0m \u001b[0mscipy\u001b[0m\u001b[1;33m.\u001b[0m\u001b[0mstats\u001b[0m \u001b[1;32mimport\u001b[0m \u001b[0mpearsonr\u001b[0m\u001b[1;33m\u001b[0m\u001b[1;33m\u001b[0m\u001b[0m\n\u001b[1;32m----> 6\u001b[1;33m \u001b[1;32mfrom\u001b[0m \u001b[0mconfig\u001b[0m \u001b[1;32mimport\u001b[0m \u001b[0mg_key\u001b[0m\u001b[1;33m\u001b[0m\u001b[1;33m\u001b[0m\u001b[0m\n\u001b[0m",
      "\u001b[1;31mModuleNotFoundError\u001b[0m: No module named 'config'"
     ]
    }
   ],
   "source": [
    "# Dependencies\n",
    "import gmaps\n",
    "import pandas as pd\n",
    "from matplotlib import pyplot as plt\n",
    "from scipy.stats import pearsonr\n",
    "from config import g_key"
   ]
  },
  {
   "cell_type": "code",
   "execution_count": null,
   "id": "0b3238b0",
   "metadata": {},
   "outputs": [],
   "source": [
    "# Read main CSV data file\n",
    "accidents_df = pd.read_csv(\"all.csv\", low_memory=False)"
   ]
  },
  {
   "cell_type": "code",
   "execution_count": null,
   "id": "800f99ff",
   "metadata": {},
   "outputs": [],
   "source": [
    "# Overview of DataFrame\n",
    "accidents_df"
   ]
  },
  {
   "cell_type": "code",
   "execution_count": null,
   "id": "af01bdb0",
   "metadata": {},
   "outputs": [],
   "source": [
    "# List of Columns\n",
    "accidents_df.columns"
   ]
  },
  {
   "cell_type": "code",
   "execution_count": 4,
   "id": "c22758ff",
   "metadata": {},
   "outputs": [
    {
     "ename": "NameError",
     "evalue": "name 'accidents_df' is not defined",
     "output_type": "error",
     "traceback": [
      "\u001b[1;31m---------------------------------------------------------------------------\u001b[0m",
      "\u001b[1;31mNameError\u001b[0m                                 Traceback (most recent call last)",
      "\u001b[1;32m~\\AppData\\Local\\Temp/ipykernel_26260/1793748029.py\u001b[0m in \u001b[0;36m<module>\u001b[1;34m\u001b[0m\n\u001b[0;32m      1\u001b[0m \u001b[1;31m# Get only the accidents in the Birmingham Local_Authority\u001b[0m\u001b[1;33m\u001b[0m\u001b[1;33m\u001b[0m\u001b[1;33m\u001b[0m\u001b[0m\n\u001b[1;32m----> 2\u001b[1;33m \u001b[0mbirmingham_df\u001b[0m \u001b[1;33m=\u001b[0m \u001b[0maccidents_df\u001b[0m\u001b[1;33m[\u001b[0m\u001b[0maccidents_df\u001b[0m\u001b[1;33m[\u001b[0m\u001b[1;34m\"Local_Authority_(District)\"\u001b[0m\u001b[1;33m]\u001b[0m \u001b[1;33m==\u001b[0m \u001b[1;34m\"Birmingham\"\u001b[0m\u001b[1;33m]\u001b[0m\u001b[1;33m\u001b[0m\u001b[1;33m\u001b[0m\u001b[0m\n\u001b[0m\u001b[0;32m      3\u001b[0m \u001b[0mbirmingham_df\u001b[0m\u001b[1;33m\u001b[0m\u001b[1;33m\u001b[0m\u001b[0m\n",
      "\u001b[1;31mNameError\u001b[0m: name 'accidents_df' is not defined"
     ]
    }
   ],
   "source": [
    "# Get only the accidents in the Birmingham Local_Authority\n",
    "birmingham_df = accidents_df[accidents_df[\"Local_Authority_(District)\"] == \"Birmingham\"]\n",
    "birmingham_df"
   ]
  },
  {
   "cell_type": "code",
   "execution_count": 5,
   "id": "f9938354",
   "metadata": {},
   "outputs": [
    {
     "ename": "NameError",
     "evalue": "name 'birmingham_df' is not defined",
     "output_type": "error",
     "traceback": [
      "\u001b[1;31m---------------------------------------------------------------------------\u001b[0m",
      "\u001b[1;31mNameError\u001b[0m                                 Traceback (most recent call last)",
      "\u001b[1;32m~\\AppData\\Local\\Temp/ipykernel_26260/4228826252.py\u001b[0m in \u001b[0;36m<module>\u001b[1;34m\u001b[0m\n\u001b[0;32m      2\u001b[0m \u001b[1;33m\u001b[0m\u001b[0m\n\u001b[0;32m      3\u001b[0m \u001b[1;31m#Just take the Latitude, Longitudue and Severity columns\u001b[0m\u001b[1;33m\u001b[0m\u001b[1;33m\u001b[0m\u001b[1;33m\u001b[0m\u001b[0m\n\u001b[1;32m----> 4\u001b[1;33m \u001b[0mbirmingham_heatmap_df\u001b[0m \u001b[1;33m=\u001b[0m \u001b[0mbirmingham_df\u001b[0m\u001b[1;33m[\u001b[0m\u001b[1;33m[\u001b[0m\u001b[1;34m\"Latitude\"\u001b[0m\u001b[1;33m,\u001b[0m\u001b[1;34m\"Longitude\"\u001b[0m\u001b[1;33m,\u001b[0m\u001b[1;34m\"Accident_Severity\"\u001b[0m\u001b[1;33m]\u001b[0m\u001b[1;33m]\u001b[0m\u001b[1;33m\u001b[0m\u001b[1;33m\u001b[0m\u001b[0m\n\u001b[0m\u001b[0;32m      5\u001b[0m \u001b[0mbirmingham_heatmap_df\u001b[0m\u001b[1;33m\u001b[0m\u001b[1;33m\u001b[0m\u001b[0m\n\u001b[0;32m      6\u001b[0m \u001b[1;33m\u001b[0m\u001b[0m\n",
      "\u001b[1;31mNameError\u001b[0m: name 'birmingham_df' is not defined"
     ]
    }
   ],
   "source": [
    "# Need to convert Accident Severity to Numerical Values for the purpose of plotting heat map\n",
    "\n",
    "#Just take the Latitude, Longitudue and Severity columns\n",
    "birmingham_heatmap_df = birmingham_df[[\"Latitude\",\"Longitude\",\"Accident_Severity\"]]\n",
    "birmingham_heatmap_df\n",
    "\n",
    "# Add a column to represent accident severity as a numerical value\n",
    "\n",
    "Slight = 100\n",
    "Serious = 200\n",
    "Fatal = 300\n",
    "\n",
    "birmingham_heatmap_df[\"Accident_Weight\"] = \"\"\n",
    "\n",
    "condition = ()\n",
    "\n",
    "birmingham_heatmap_df.loc[birmingham_heatmap_df[\"Accident_Severity\"] == \"Slight\", \"Accident_Weight\"] = 1\n",
    "birmingham_heatmap_df.loc[birmingham_heatmap_df[\"Accident_Severity\"] == \"Serious\", \"Accident_Weight\"] = 10\n",
    "birmingham_heatmap_df.loc[birmingham_heatmap_df[\"Accident_Severity\"] == \"Fatal\", \"Accident_Weight\"] = 100\n",
    "birmingham_heatmap_df"
   ]
  },
  {
   "cell_type": "code",
   "execution_count": 2,
   "id": "e7112d5e",
   "metadata": {
    "scrolled": true
   },
   "outputs": [
    {
     "ename": "NameError",
     "evalue": "name 'gmaps' is not defined",
     "output_type": "error",
     "traceback": [
      "\u001b[1;31m---------------------------------------------------------------------------\u001b[0m",
      "\u001b[1;31mNameError\u001b[0m                                 Traceback (most recent call last)",
      "\u001b[1;32m~\\AppData\\Local\\Temp/ipykernel_26260/1192964901.py\u001b[0m in \u001b[0;36m<module>\u001b[1;34m\u001b[0m\n\u001b[0;32m      1\u001b[0m \u001b[1;31m# Configure gmaps with API key\u001b[0m\u001b[1;33m\u001b[0m\u001b[1;33m\u001b[0m\u001b[1;33m\u001b[0m\u001b[0m\n\u001b[1;32m----> 2\u001b[1;33m \u001b[0mgmaps\u001b[0m\u001b[1;33m.\u001b[0m\u001b[0mconfigure\u001b[0m\u001b[1;33m(\u001b[0m\u001b[0mapi_key\u001b[0m\u001b[1;33m=\u001b[0m\u001b[0mg_key\u001b[0m\u001b[1;33m)\u001b[0m\u001b[1;33m\u001b[0m\u001b[1;33m\u001b[0m\u001b[0m\n\u001b[0m\u001b[0;32m      3\u001b[0m \u001b[1;33m\u001b[0m\u001b[0m\n\u001b[0;32m      4\u001b[0m \u001b[1;31m# Create initial figure\u001b[0m\u001b[1;33m\u001b[0m\u001b[1;33m\u001b[0m\u001b[1;33m\u001b[0m\u001b[0m\n\u001b[0;32m      5\u001b[0m \u001b[0mfig\u001b[0m \u001b[1;33m=\u001b[0m \u001b[0mgmaps\u001b[0m\u001b[1;33m.\u001b[0m\u001b[0mfigure\u001b[0m\u001b[1;33m(\u001b[0m\u001b[1;33m)\u001b[0m\u001b[1;33m\u001b[0m\u001b[1;33m\u001b[0m\u001b[0m\n",
      "\u001b[1;31mNameError\u001b[0m: name 'gmaps' is not defined"
     ]
    }
   ],
   "source": [
    "# Configure gmaps with API key\n",
    "gmaps.configure(api_key=g_key)\n",
    "\n",
    "# Create initial figure\n",
    "fig = gmaps.figure()\n",
    "\n",
    "# Create humidity Heatmap layer\n",
    "locations = birmingham_heatmap_df[[\"Latitude\", \"Longitude\"]]\n",
    "humidity_heat_layer = gmaps.heatmap_layer(locations)\n",
    "fig.add_layer(humidity_heat_layer)\n",
    "\n",
    "# Had marker layer but removed as far too many markers! (21,504)\n",
    "\n",
    "#Visualize\n",
    "fig"
   ]
  },
  {
   "cell_type": "markdown",
   "id": "dad69803",
   "metadata": {},
   "source": [
    "Created a google maps plot with a heatmap layer based on just the locations.\n",
    "The plot indicates that from 2010-2016 almost the entirety of Birmingham has had accidents and indicates a greater number of accidents happen in the areas closer to the city center.\n",
    "\n",
    "This is likely due to the traffic concentration increasing around the city center and from other plots it was determined that rush hour traffic increases the number of accidents. As the city center is the central hub for business in Birmingham this means that the traffic concentration around the city center would be very high during commuting hours."
   ]
  },
  {
   "cell_type": "code",
   "execution_count": 63,
   "id": "ba15e321",
   "metadata": {},
   "outputs": [
    {
     "data": {
      "application/vnd.jupyter.widget-view+json": {
       "model_id": "94a6c04ec5154e05aaae7b994425daf7",
       "version_major": 2,
       "version_minor": 0
      },
      "text/plain": [
       "Figure(layout=FigureLayout(height='420px'))"
      ]
     },
     "metadata": {},
     "output_type": "display_data"
    }
   ],
   "source": [
    "# Configure gmaps with API key\n",
    "gmaps.configure(api_key=g_key)\n",
    "\n",
    "# Create initial figure\n",
    "fig = gmaps.figure()\n",
    "\n",
    "# Create humidity Heatmap layer\n",
    "locations = birmingham_heatmap_df[[\"Latitude\", \"Longitude\"]]\n",
    "humidity_heat_layer = gmaps.heatmap_layer(locations, weights=birmingham_heatmap_df[\"Accident_Weight\"])\n",
    "fig.add_layer(humidity_heat_layer)\n",
    "\n",
    "# Had marker layer but removed as far too many markers! (21,504)\n",
    "\n",
    "#Visualize\n",
    "fig"
   ]
  },
  {
   "cell_type": "markdown",
   "id": "5a8ddd78",
   "metadata": {},
   "source": [
    "The accident locations heatmap was repeated, however this time the Accident Severities were added as weights. Again the map seems to indicate more serious and fatal accidents were concentrated in the city center. However this could be just a repeat of the concentrations of accidents further enhanced by the severity. So this map is not clear.\n",
    "\n",
    "A marker layer was also attempted, but as there were 21,504 accidents, the markers put too much processing strain on the system and covered almost the entirety of Birmingham. Due to the processing load I was unable to zoom in to a level where the markers were spread out enough. So I discarded the marker layer."
   ]
  },
  {
   "cell_type": "code",
   "execution_count": 64,
   "id": "6868d1d7",
   "metadata": {},
   "outputs": [
    {
     "data": {
      "application/vnd.jupyter.widget-view+json": {
       "model_id": "e53ce6f028604b5fa0b9085db89fa4c9",
       "version_major": 2,
       "version_minor": 0
      },
      "text/plain": [
       "Figure(layout=FigureLayout(height='420px'))"
      ]
     },
     "metadata": {},
     "output_type": "display_data"
    }
   ],
   "source": [
    "## Heatmap for ALL Accidents\n",
    "# Configure gmaps with API key\n",
    "gmaps.configure(api_key=g_key)\n",
    "\n",
    "# Create initial figure\n",
    "fig = gmaps.figure()\n",
    "\n",
    "# Create humidity Heatmap layer\n",
    "locations = accidents_df[[\"Latitude\", \"Longitude\"]]\n",
    "humidity_heat_layer = gmaps.heatmap_layer(locations)\n",
    "fig.add_layer(humidity_heat_layer)\n",
    "\n",
    "#Visualize\n",
    "fig"
   ]
  },
  {
   "cell_type": "markdown",
   "id": "e587f058",
   "metadata": {},
   "source": [
    "This is a plot of all of the accidents in the filtered data set (years from 2010-2016) and therefore covers most of the United Kingdom.\n",
    "\n",
    "It is evident that most of the accidents are concentrated in Large Cities and Towns (Urban areas) where there is a large population and therefore concentration of traffic, which would have led to a greater number of accidents."
   ]
  },
  {
   "cell_type": "code",
   "execution_count": null,
   "id": "d021eb23",
   "metadata": {},
   "outputs": [],
   "source": []
  }
 ],
 "metadata": {
  "kernelspec": {
   "display_name": "Python 3 (ipykernel)",
   "language": "python",
   "name": "python3"
  },
  "language_info": {
   "codemirror_mode": {
    "name": "ipython",
    "version": 3
   },
   "file_extension": ".py",
   "mimetype": "text/x-python",
   "name": "python",
   "nbconvert_exporter": "python",
   "pygments_lexer": "ipython3",
   "version": "3.9.6"
  }
 },
 "nbformat": 4,
 "nbformat_minor": 5
}
