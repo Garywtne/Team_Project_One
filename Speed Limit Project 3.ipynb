{
 "cells": [
  {
   "cell_type": "markdown",
   "id": "aee53de6",
   "metadata": {},
   "source": [
    "# Road Safety Project"
   ]
  },
  {
   "cell_type": "markdown",
   "id": "a1b7af7b",
   "metadata": {},
   "source": [
    "The data below presents the number of road accidents by the speed zones and vehicle manoeuvring just before the incident.\n",
    "\n",
    "It appears from chart 1 that most minor accidents occurred in regions where there was a 30mph speed limit.\n",
    "\n",
    "Chart 2 shows that most accidents occurred when vehicles were overtaking in the UK. Turning right is the next vehicle manoeuvring that led to an incident. There might be a relationship between turning right and overtaking of vehicles as in the UK overtaking is done from the right of the vehicle in front."
   ]
  },
  {
   "cell_type": "code",
   "execution_count": 3,
   "id": "08a71384",
   "metadata": {},
   "outputs": [],
   "source": [
    "import pandas as pd\n",
    "import numpy as np\n",
    "import matplotlib.pyplot as plt"
   ]
  },
  {
   "cell_type": "code",
   "execution_count": 4,
   "id": "14c606b8",
   "metadata": {},
   "outputs": [
    {
     "name": "stderr",
     "output_type": "stream",
     "text": [
      "c:\\users\\arshad\\anaconda3\\envs\\jupyterenv\\lib\\site-packages\\IPython\\core\\interactiveshell.py:3441: DtypeWarning: Columns (1) have mixed types.Specify dtype option on import or set low_memory=False.\n",
      "  exec(code_obj, self.user_global_ns, self.user_ns)\n"
     ]
    },
    {
     "data": {
      "text/html": [
       "<div>\n",
       "<style scoped>\n",
       "    .dataframe tbody tr th:only-of-type {\n",
       "        vertical-align: middle;\n",
       "    }\n",
       "\n",
       "    .dataframe tbody tr th {\n",
       "        vertical-align: top;\n",
       "    }\n",
       "\n",
       "    .dataframe thead th {\n",
       "        text-align: right;\n",
       "    }\n",
       "</style>\n",
       "<table border=\"1\" class=\"dataframe\">\n",
       "  <thead>\n",
       "    <tr style=\"text-align: right;\">\n",
       "      <th></th>\n",
       "      <th>Unnamed: 0</th>\n",
       "      <th>Accident_Index</th>\n",
       "      <th>1st_Road_Class</th>\n",
       "      <th>Accident_Severity</th>\n",
       "      <th>Year</th>\n",
       "      <th>Date</th>\n",
       "      <th>Day_of_Week</th>\n",
       "      <th>Latitude</th>\n",
       "      <th>Light_Conditions</th>\n",
       "      <th>Local_Authority_(District)</th>\n",
       "      <th>...</th>\n",
       "      <th>Journey_Purpose_of_Driver</th>\n",
       "      <th>Junction_Location</th>\n",
       "      <th>make</th>\n",
       "      <th>model</th>\n",
       "      <th>Propulsion_Code</th>\n",
       "      <th>Sex_of_Driver</th>\n",
       "      <th>Towing_and_Articulation</th>\n",
       "      <th>Vehicle_Manoeuvre</th>\n",
       "      <th>Vehicle_Type</th>\n",
       "      <th>Was_Vehicle_Left_Hand_Drive</th>\n",
       "    </tr>\n",
       "  </thead>\n",
       "  <tbody>\n",
       "    <tr>\n",
       "      <th>0</th>\n",
       "      <td>478587</td>\n",
       "      <td>201001BS70003</td>\n",
       "      <td>B</td>\n",
       "      <td>Slight</td>\n",
       "      <td>2010</td>\n",
       "      <td>2010-01-11</td>\n",
       "      <td>Monday</td>\n",
       "      <td>51.484087</td>\n",
       "      <td>Daylight</td>\n",
       "      <td>Kensington and Chelsea</td>\n",
       "      <td>...</td>\n",
       "      <td>Commuting to/from work</td>\n",
       "      <td>Mid Junction - on roundabout or on main road</td>\n",
       "      <td>CITROEN</td>\n",
       "      <td>BERLINGO FIRST 600</td>\n",
       "      <td>Petrol</td>\n",
       "      <td>Female</td>\n",
       "      <td>No tow/articulation</td>\n",
       "      <td>Turning right</td>\n",
       "      <td>Van / Goods 3.5 tonnes mgw or under</td>\n",
       "      <td>No</td>\n",
       "    </tr>\n",
       "    <tr>\n",
       "      <th>1</th>\n",
       "      <td>478588</td>\n",
       "      <td>201001BS70004</td>\n",
       "      <td>A</td>\n",
       "      <td>Slight</td>\n",
       "      <td>2010</td>\n",
       "      <td>2010-01-11</td>\n",
       "      <td>Monday</td>\n",
       "      <td>51.509212</td>\n",
       "      <td>Darkness - lights lit</td>\n",
       "      <td>Kensington and Chelsea</td>\n",
       "      <td>...</td>\n",
       "      <td>Journey as part of work</td>\n",
       "      <td>Mid Junction - on roundabout or on main road</td>\n",
       "      <td>RENAULT</td>\n",
       "      <td>SCENIC DYN DCI 130</td>\n",
       "      <td>Heavy oil</td>\n",
       "      <td>Male</td>\n",
       "      <td>No tow/articulation</td>\n",
       "      <td>Going ahead other</td>\n",
       "      <td>Car</td>\n",
       "      <td>No</td>\n",
       "    </tr>\n",
       "    <tr>\n",
       "      <th>2</th>\n",
       "      <td>478589</td>\n",
       "      <td>201001BS70007</td>\n",
       "      <td>Unclassified</td>\n",
       "      <td>Slight</td>\n",
       "      <td>2010</td>\n",
       "      <td>2010-01-02</td>\n",
       "      <td>Saturday</td>\n",
       "      <td>51.513314</td>\n",
       "      <td>Darkness - lights lit</td>\n",
       "      <td>Kensington and Chelsea</td>\n",
       "      <td>...</td>\n",
       "      <td>Other/Not known (2005-10)</td>\n",
       "      <td>Mid Junction - on roundabout or on main road</td>\n",
       "      <td>NISSAN</td>\n",
       "      <td>PRIMERA SVE CVT</td>\n",
       "      <td>Petrol</td>\n",
       "      <td>Female</td>\n",
       "      <td>No tow/articulation</td>\n",
       "      <td>Going ahead right-hand bend</td>\n",
       "      <td>Car</td>\n",
       "      <td>No</td>\n",
       "    </tr>\n",
       "    <tr>\n",
       "      <th>3</th>\n",
       "      <td>478590</td>\n",
       "      <td>201001BS70007</td>\n",
       "      <td>Unclassified</td>\n",
       "      <td>Slight</td>\n",
       "      <td>2010</td>\n",
       "      <td>2010-01-02</td>\n",
       "      <td>Saturday</td>\n",
       "      <td>51.513314</td>\n",
       "      <td>Darkness - lights lit</td>\n",
       "      <td>Kensington and Chelsea</td>\n",
       "      <td>...</td>\n",
       "      <td>Other/Not known (2005-10)</td>\n",
       "      <td>Mid Junction - on roundabout or on main road</td>\n",
       "      <td>MERCEDES</td>\n",
       "      <td>A140 ELEGANCE</td>\n",
       "      <td>Petrol</td>\n",
       "      <td>Female</td>\n",
       "      <td>No tow/articulation</td>\n",
       "      <td>Going ahead other</td>\n",
       "      <td>Car</td>\n",
       "      <td>No</td>\n",
       "    </tr>\n",
       "    <tr>\n",
       "      <th>4</th>\n",
       "      <td>478591</td>\n",
       "      <td>201001BS70008</td>\n",
       "      <td>A</td>\n",
       "      <td>Slight</td>\n",
       "      <td>2010</td>\n",
       "      <td>2010-01-04</td>\n",
       "      <td>Monday</td>\n",
       "      <td>51.484361</td>\n",
       "      <td>Darkness - lights lit</td>\n",
       "      <td>Kensington and Chelsea</td>\n",
       "      <td>...</td>\n",
       "      <td>Journey as part of work</td>\n",
       "      <td>Mid Junction - on roundabout or on main road</td>\n",
       "      <td>VAUXHALL</td>\n",
       "      <td>ZAFIRA ELEGANCE DTI</td>\n",
       "      <td>Heavy oil</td>\n",
       "      <td>Male</td>\n",
       "      <td>No tow/articulation</td>\n",
       "      <td>Turning right</td>\n",
       "      <td>Taxi/Private hire car</td>\n",
       "      <td>No</td>\n",
       "    </tr>\n",
       "  </tbody>\n",
       "</table>\n",
       "<p>5 rows × 33 columns</p>\n",
       "</div>"
      ],
      "text/plain": [
       "   Unnamed: 0 Accident_Index 1st_Road_Class Accident_Severity  Year  \\\n",
       "0      478587  201001BS70003              B            Slight  2010   \n",
       "1      478588  201001BS70004              A            Slight  2010   \n",
       "2      478589  201001BS70007   Unclassified            Slight  2010   \n",
       "3      478590  201001BS70007   Unclassified            Slight  2010   \n",
       "4      478591  201001BS70008              A            Slight  2010   \n",
       "\n",
       "         Date Day_of_Week   Latitude       Light_Conditions  \\\n",
       "0  2010-01-11      Monday  51.484087               Daylight   \n",
       "1  2010-01-11      Monday  51.509212  Darkness - lights lit   \n",
       "2  2010-01-02    Saturday  51.513314  Darkness - lights lit   \n",
       "3  2010-01-02    Saturday  51.513314  Darkness - lights lit   \n",
       "4  2010-01-04      Monday  51.484361  Darkness - lights lit   \n",
       "\n",
       "  Local_Authority_(District)  ...  Journey_Purpose_of_Driver  \\\n",
       "0     Kensington and Chelsea  ...     Commuting to/from work   \n",
       "1     Kensington and Chelsea  ...    Journey as part of work   \n",
       "2     Kensington and Chelsea  ...  Other/Not known (2005-10)   \n",
       "3     Kensington and Chelsea  ...  Other/Not known (2005-10)   \n",
       "4     Kensington and Chelsea  ...    Journey as part of work   \n",
       "\n",
       "                              Junction_Location      make  \\\n",
       "0  Mid Junction - on roundabout or on main road   CITROEN   \n",
       "1  Mid Junction - on roundabout or on main road   RENAULT   \n",
       "2  Mid Junction - on roundabout or on main road    NISSAN   \n",
       "3  Mid Junction - on roundabout or on main road  MERCEDES   \n",
       "4  Mid Junction - on roundabout or on main road  VAUXHALL   \n",
       "\n",
       "                 model Propulsion_Code Sex_of_Driver  Towing_and_Articulation  \\\n",
       "0   BERLINGO FIRST 600          Petrol        Female      No tow/articulation   \n",
       "1   SCENIC DYN DCI 130       Heavy oil          Male      No tow/articulation   \n",
       "2      PRIMERA SVE CVT          Petrol        Female      No tow/articulation   \n",
       "3        A140 ELEGANCE          Petrol        Female      No tow/articulation   \n",
       "4  ZAFIRA ELEGANCE DTI       Heavy oil          Male      No tow/articulation   \n",
       "\n",
       "             Vehicle_Manoeuvre                         Vehicle_Type  \\\n",
       "0                Turning right  Van / Goods 3.5 tonnes mgw or under   \n",
       "1            Going ahead other                                  Car   \n",
       "2  Going ahead right-hand bend                                  Car   \n",
       "3            Going ahead other                                  Car   \n",
       "4                Turning right                Taxi/Private hire car   \n",
       "\n",
       "  Was_Vehicle_Left_Hand_Drive  \n",
       "0                          No  \n",
       "1                          No  \n",
       "2                          No  \n",
       "3                          No  \n",
       "4                          No  \n",
       "\n",
       "[5 rows x 33 columns]"
      ]
     },
     "execution_count": 4,
     "metadata": {},
     "output_type": "execute_result"
    }
   ],
   "source": [
    "# Store filepath and read Data file with the pandas library\n",
    "file_one = \"../Project/all.csv\"\n",
    "file_one_df = pd.read_csv(file_one)\n",
    "file_one_df.head()"
   ]
  },
  {
   "cell_type": "code",
   "execution_count": 5,
   "id": "b8c67092",
   "metadata": {},
   "outputs": [
    {
     "data": {
      "text/plain": [
       "<AxesSubplot:xlabel='Speed_limit'>"
      ]
     },
     "execution_count": 5,
     "metadata": {},
     "output_type": "execute_result"
    },
    {
     "data": {
      "image/png": "[encoded data removed]",
      "text/plain": [
       "<Figure size 432x288 with 1 Axes>"
      ]
     },
     "metadata": {
      "needs_background": "light"
     },
     "output_type": "display_data"
    }
   ],
   "source": [
    "# create chart of speed limit against the number of incidents with severity level\n",
    "file_two_df = file_one_df[[\"Speed_limit\",\"Accident_Severity\"]]\n",
    "file_two_df\n",
    "road_group = file_two_df.groupby([\"Speed_limit\",\"Accident_Severity\"])\n",
    "road_group_count = road_group[\"Accident_Severity\"].count().unstack()\n",
    "road_group_count = road_group_count.sort_values(by=[\"Slight\",\"Serious\",\"Fatal\"], ascending=False)\n",
    "\n",
    "road_group_count.plot.bar(stacked=True)"
   ]
  },
  {
   "cell_type": "code",
   "execution_count": 4,
   "id": "8875b4ef",
   "metadata": {},
   "outputs": [
    {
     "data": {
      "text/plain": [
       "<AxesSubplot:xlabel='Vehicle_Manoeuvre'>"
      ]
     },
     "execution_count": 4,
     "metadata": {},
     "output_type": "execute_result"
    },
    {
     "data": {
      "image/png": "[encoded data removed]",
      "text/plain": [
       "<Figure size 432x288 with 1 Axes>"
      ]
     },
     "metadata": {
      "needs_background": "light"
     },
     "output_type": "display_data"
    }
   ],
   "source": [
    "# create chart of vehicle manoeuvre against the number of incidents with severity level\n",
    "file_three_df = file_one_df[[\"Vehicle_Manoeuvre\",\"Accident_Severity\"]]\n",
    "file_three_df\n",
    "road_group = file_three_df.groupby([\"Vehicle_Manoeuvre\",\"Accident_Severity\"])\n",
    "road_group_count = road_group[\"Accident_Severity\"].count().unstack()\n",
    "road_group_count = road_group_count.sort_values(by=[\"Slight\",\"Serious\",\"Fatal\"], ascending=False)\n",
    "road_group_count.plot.bar(stacked=True)\n"
   ]
  },
  {
   "cell_type": "code",
   "execution_count": null,
   "id": "f8bdf6cc",
   "metadata": {},
   "outputs": [],
   "source": []
  }
 ],
 "metadata": {
  "kernelspec": {
   "display_name": "Python 3 (ipykernel)",
   "language": "python",
   "name": "python3"
  },
  "language_info": {
   "codemirror_mode": {
    "name": "ipython",
    "version": 3
   },
   "file_extension": ".py",
   "mimetype": "text/x-python",
   "name": "python",
   "nbconvert_exporter": "python",
   "pygments_lexer": "ipython3",
   "version": "3.8.10"
  }
 },
 "nbformat": 4,
 "nbformat_minor": 5
}
