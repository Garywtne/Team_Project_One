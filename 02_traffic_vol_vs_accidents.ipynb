{
 "cells": [
  {
   "cell_type": "code",
   "execution_count": 1,
   "id": "c2f995bf",
   "metadata": {},
   "outputs": [],
   "source": [
    "# Dependencies and Setup\n",
    "import matplotlib.pyplot as plt\n",
    "import matplotlib as mpl\n",
    "import pandas as pd\n",
    "import scipy.stats as sts\n",
    "from scipy.stats import linregress\n",
    "import numpy as np\n",
    "import seaborn as sns"
   ]
  },
  {
   "cell_type": "code",
   "execution_count": 2,
   "id": "506039a0",
   "metadata": {
    "scrolled": true
   },
   "outputs": [
    {
     "data": {
      "text/html": [
       "<div>\n",
       "<style scoped>\n",
       "    .dataframe tbody tr th:only-of-type {\n",
       "        vertical-align: middle;\n",
       "    }\n",
       "\n",
       "    .dataframe tbody tr th {\n",
       "        vertical-align: top;\n",
       "    }\n",
       "\n",
       "    .dataframe thead th {\n",
       "        text-align: right;\n",
       "    }\n",
       "</style>\n",
       "<table border=\"1\" class=\"dataframe\">\n",
       "  <thead>\n",
       "    <tr style=\"text-align: right;\">\n",
       "      <th></th>\n",
       "      <th>Index</th>\n",
       "      <th>Year</th>\n",
       "      <th>Date</th>\n",
       "      <th>Day</th>\n",
       "      <th>Time</th>\n",
       "      <th>Severity</th>\n",
       "      <th>Casualties</th>\n",
       "      <th>Location</th>\n",
       "      <th>Gender</th>\n",
       "      <th>Time_f</th>\n",
       "      <th>Time_Bin</th>\n",
       "    </tr>\n",
       "  </thead>\n",
       "  <tbody>\n",
       "    <tr>\n",
       "      <th>0</th>\n",
       "      <td>201001BS70003</td>\n",
       "      <td>2010</td>\n",
       "      <td>2010-01-11</td>\n",
       "      <td>Monday</td>\n",
       "      <td>07:30</td>\n",
       "      <td>Slight</td>\n",
       "      <td>1</td>\n",
       "      <td>Mid Junction - on roundabout or on main road</td>\n",
       "      <td>Female</td>\n",
       "      <td>7</td>\n",
       "      <td>Morning Commute</td>\n",
       "    </tr>\n",
       "    <tr>\n",
       "      <th>1</th>\n",
       "      <td>201001BS70004</td>\n",
       "      <td>2010</td>\n",
       "      <td>2010-01-11</td>\n",
       "      <td>Monday</td>\n",
       "      <td>18:35</td>\n",
       "      <td>Slight</td>\n",
       "      <td>1</td>\n",
       "      <td>Mid Junction - on roundabout or on main road</td>\n",
       "      <td>Male</td>\n",
       "      <td>18</td>\n",
       "      <td>Evening Commute</td>\n",
       "    </tr>\n",
       "    <tr>\n",
       "      <th>2</th>\n",
       "      <td>201001BS70007</td>\n",
       "      <td>2010</td>\n",
       "      <td>2010-01-02</td>\n",
       "      <td>Saturday</td>\n",
       "      <td>21:21</td>\n",
       "      <td>Slight</td>\n",
       "      <td>1</td>\n",
       "      <td>Mid Junction - on roundabout or on main road</td>\n",
       "      <td>Female</td>\n",
       "      <td>21</td>\n",
       "      <td>Late PM</td>\n",
       "    </tr>\n",
       "    <tr>\n",
       "      <th>3</th>\n",
       "      <td>201001BS70007</td>\n",
       "      <td>2010</td>\n",
       "      <td>2010-01-02</td>\n",
       "      <td>Saturday</td>\n",
       "      <td>21:21</td>\n",
       "      <td>Slight</td>\n",
       "      <td>1</td>\n",
       "      <td>Mid Junction - on roundabout or on main road</td>\n",
       "      <td>Female</td>\n",
       "      <td>21</td>\n",
       "      <td>Late PM</td>\n",
       "    </tr>\n",
       "    <tr>\n",
       "      <th>4</th>\n",
       "      <td>201001BS70008</td>\n",
       "      <td>2010</td>\n",
       "      <td>2010-01-04</td>\n",
       "      <td>Monday</td>\n",
       "      <td>20:35</td>\n",
       "      <td>Slight</td>\n",
       "      <td>1</td>\n",
       "      <td>Mid Junction - on roundabout or on main road</td>\n",
       "      <td>Male</td>\n",
       "      <td>20</td>\n",
       "      <td>Late PM</td>\n",
       "    </tr>\n",
       "  </tbody>\n",
       "</table>\n",
       "</div>"
      ],
      "text/plain": [
       "           Index  Year        Date       Day   Time Severity  Casualties  \\\n",
       "0  201001BS70003  2010  2010-01-11    Monday  07:30   Slight           1   \n",
       "1  201001BS70004  2010  2010-01-11    Monday  18:35   Slight           1   \n",
       "2  201001BS70007  2010  2010-01-02  Saturday  21:21   Slight           1   \n",
       "3  201001BS70007  2010  2010-01-02  Saturday  21:21   Slight           1   \n",
       "4  201001BS70008  2010  2010-01-04    Monday  20:35   Slight           1   \n",
       "\n",
       "                                       Location  Gender  Time_f  \\\n",
       "0  Mid Junction - on roundabout or on main road  Female       7   \n",
       "1  Mid Junction - on roundabout or on main road    Male      18   \n",
       "2  Mid Junction - on roundabout or on main road  Female      21   \n",
       "3  Mid Junction - on roundabout or on main road  Female      21   \n",
       "4  Mid Junction - on roundabout or on main road    Male      20   \n",
       "\n",
       "          Time_Bin  \n",
       "0  Morning Commute  \n",
       "1  Evening Commute  \n",
       "2          Late PM  \n",
       "3          Late PM  \n",
       "4          Late PM  "
      ]
     },
     "execution_count": 2,
     "metadata": {},
     "output_type": "execute_result"
    }
   ],
   "source": [
    "#Read in cleased data file\n",
    "file_6 = \"Resources/time_bin.csv\"\n",
    "time_df = pd.read_csv(file_6)\n",
    "\n",
    "time_df.head()"
   ]
  },
  {
   "cell_type": "code",
   "execution_count": 3,
   "id": "5f2574b9",
   "metadata": {},
   "outputs": [
    {
     "data": {
      "text/html": [
       "<div>\n",
       "<style scoped>\n",
       "    .dataframe tbody tr th:only-of-type {\n",
       "        vertical-align: middle;\n",
       "    }\n",
       "\n",
       "    .dataframe tbody tr th {\n",
       "        vertical-align: top;\n",
       "    }\n",
       "\n",
       "    .dataframe thead th {\n",
       "        text-align: right;\n",
       "    }\n",
       "</style>\n",
       "<table border=\"1\" class=\"dataframe\">\n",
       "  <thead>\n",
       "    <tr style=\"text-align: right;\">\n",
       "      <th></th>\n",
       "      <th>Year</th>\n",
       "      <th>Cars and Taxis</th>\n",
       "      <th>Light Commercial\\nVehicles 1</th>\n",
       "      <th>Heavy Goods Vehicles 2</th>\n",
       "      <th>Motorcycles</th>\n",
       "      <th>Buses &amp; Coaches</th>\n",
       "      <th>All motor vehicles</th>\n",
       "    </tr>\n",
       "  </thead>\n",
       "  <tbody>\n",
       "    <tr>\n",
       "      <th>0</th>\n",
       "      <td>2010</td>\n",
       "      <td>241.9</td>\n",
       "      <td>41.4</td>\n",
       "      <td>16.4</td>\n",
       "      <td>2.9</td>\n",
       "      <td>3.2</td>\n",
       "      <td>305.8</td>\n",
       "    </tr>\n",
       "    <tr>\n",
       "      <th>1</th>\n",
       "      <td>2011</td>\n",
       "      <td>244.3</td>\n",
       "      <td>42.0</td>\n",
       "      <td>16.0</td>\n",
       "      <td>2.9</td>\n",
       "      <td>3.0</td>\n",
       "      <td>308.2</td>\n",
       "    </tr>\n",
       "    <tr>\n",
       "      <th>2</th>\n",
       "      <td>2012</td>\n",
       "      <td>245.5</td>\n",
       "      <td>42.2</td>\n",
       "      <td>15.6</td>\n",
       "      <td>2.9</td>\n",
       "      <td>2.8</td>\n",
       "      <td>309.0</td>\n",
       "    </tr>\n",
       "    <tr>\n",
       "      <th>3</th>\n",
       "      <td>2013</td>\n",
       "      <td>246.6</td>\n",
       "      <td>43.8</td>\n",
       "      <td>15.8</td>\n",
       "      <td>2.8</td>\n",
       "      <td>2.9</td>\n",
       "      <td>311.9</td>\n",
       "    </tr>\n",
       "    <tr>\n",
       "      <th>4</th>\n",
       "      <td>2014</td>\n",
       "      <td>253.5</td>\n",
       "      <td>46.6</td>\n",
       "      <td>16.2</td>\n",
       "      <td>2.9</td>\n",
       "      <td>2.9</td>\n",
       "      <td>322.2</td>\n",
       "    </tr>\n",
       "    <tr>\n",
       "      <th>5</th>\n",
       "      <td>2015</td>\n",
       "      <td>258.1</td>\n",
       "      <td>48.9</td>\n",
       "      <td>16.8</td>\n",
       "      <td>2.9</td>\n",
       "      <td>2.8</td>\n",
       "      <td>329.6</td>\n",
       "    </tr>\n",
       "    <tr>\n",
       "      <th>6</th>\n",
       "      <td>2016</td>\n",
       "      <td>263.9</td>\n",
       "      <td>51.7</td>\n",
       "      <td>17.0</td>\n",
       "      <td>3.0</td>\n",
       "      <td>2.6</td>\n",
       "      <td>338.2</td>\n",
       "    </tr>\n",
       "  </tbody>\n",
       "</table>\n",
       "</div>"
      ],
      "text/plain": [
       "   Year  Cars and Taxis  Light Commercial\\nVehicles 1  Heavy Goods Vehicles 2  \\\n",
       "0  2010           241.9                          41.4                    16.4   \n",
       "1  2011           244.3                          42.0                    16.0   \n",
       "2  2012           245.5                          42.2                    15.6   \n",
       "3  2013           246.6                          43.8                    15.8   \n",
       "4  2014           253.5                          46.6                    16.2   \n",
       "5  2015           258.1                          48.9                    16.8   \n",
       "6  2016           263.9                          51.7                    17.0   \n",
       "\n",
       "   Motorcycles  Buses & Coaches  All motor vehicles  \n",
       "0          2.9              3.2               305.8  \n",
       "1          2.9              3.0               308.2  \n",
       "2          2.9              2.8               309.0  \n",
       "3          2.8              2.9               311.9  \n",
       "4          2.9              2.9               322.2  \n",
       "5          2.9              2.8               329.6  \n",
       "6          3.0              2.6               338.2  "
      ]
     },
     "execution_count": 3,
     "metadata": {},
     "output_type": "execute_result"
    }
   ],
   "source": [
    "#read in data file\n",
    "\n",
    "traffic_vol_df = pd.read_csv(\"Resources/traffic_vol_2010_to2016.csv\")\n",
    "\n",
    "#traffic_vol_df = traffic_vol_df.set_index(\"Year\")\n",
    "\n",
    "traffic_vol_df"
   ]
  },
  {
   "cell_type": "code",
   "execution_count": 12,
   "id": "c1655c61",
   "metadata": {
    "scrolled": true
   },
   "outputs": [
    {
     "data": {
      "image/png": "[encoded data removed]",
      "text/plain": [
       "<Figure size 432x288 with 1 Axes>"
      ]
     },
     "metadata": {
      "needs_background": "light"
     },
     "output_type": "display_data"
    }
   ],
   "source": [
    "#plot traffic volumes vs year from 2010 to 2016\n",
    "traffic_vol_df[\"All motor vehicles\"] = traffic_vol_df[\"All motor vehicles\"]\n",
    "sorted_traffic_vol_df = traffic_vol_df.sort_values(\"Year\", ascending=True)\n",
    "sorted_traffic_vol_df.plot.bar(x=\"Year\", y=\"All motor vehicles\", linestyle=\"-\")\n",
    "plt.title('Overall traffic volume vs Year')\n",
    "plt.xticks(rotation = 0,)\n",
    "\n",
    "plt.xlabel(\"Year\")\n",
    "plt.ylabel(\"Volume of traffic\")\n",
    "plt.legend(loc=\"upper left\")\n",
    "plt.savefig(\"Images/Overall_traffic_volume.png\", bbox_inches = \"tight\")\n",
    "plt.tight_layout()"
   ]
  },
  {
   "cell_type": "code",
   "execution_count": 13,
   "id": "25465ecb",
   "metadata": {},
   "outputs": [
    {
     "data": {
      "text/plain": [
       "<Figure size 432x288 with 0 Axes>"
      ]
     },
     "metadata": {},
     "output_type": "display_data"
    },
    {
     "data": {
      "image/png": "[encoded data removed]",
      "text/plain": [
       "<Figure size 432x288 with 1 Axes>"
      ]
     },
     "metadata": {
      "needs_background": "light"
     },
     "output_type": "display_data"
    }
   ],
   "source": [
    "#plot accidents vs year from 2010 to 2016\n",
    "accident_sev_yr = time_df.groupby(['Year','Severity'])['Index'].nunique().unstack().reset_index()\n",
    "sorted_df=accident_sev_yr.sort_values(by=['Fatal','Serious','Slight'], ascending=False)\n",
    "sorted_df=sorted_df.sort_values(by=['Year'], ascending=True)\n",
    "sorted_df=sorted_df[[\"Slight\",\"Serious\",\"Fatal\",\"Year\"]]\n",
    "\n",
    "plt.figure()\n",
    "ax = sorted_df.plot.bar(x=\"Year\", stacked=True, color={\"Slight\":\"green\",\"Serious\":\"orange\",\"Fatal\":\"red\"})\n",
    "\n",
    "plt.title('Year vs Accidents')\n",
    "plt.xlabel(\"Year\")\n",
    "plt.ylabel(\"Accident counts\")\n",
    "plt.legend(loc=\"best\")\n",
    "plt.savefig(\"Images/Year_vs_accidents.png\", bbox_inches = \"tight\")\n",
    "plt.tight_layout()\n"
   ]
  },
  {
   "cell_type": "code",
   "execution_count": 16,
   "id": "b9ed5991",
   "metadata": {},
   "outputs": [
    {
     "data": {
      "text/plain": [
       "<Figure size 432x288 with 0 Axes>"
      ]
     },
     "metadata": {},
     "output_type": "display_data"
    },
    {
     "data": {
      "image/png": "[encoded data removed]",
      "text/plain": [
       "<Figure size 432x288 with 2 Axes>"
      ]
     },
     "metadata": {
      "needs_background": "light"
     },
     "output_type": "display_data"
    }
   ],
   "source": [
    "accident_sev_yr = time_df.groupby(['Year','Severity'])['Index'].nunique().unstack().reset_index()\n",
    "sorted_df=accident_sev_yr.sort_values(by=['Fatal','Serious','Slight'], ascending=False)\n",
    "sorted_df=sorted_df.sort_values(by=['Year'], ascending=True)\n",
    "sorted_df=sorted_df[[\"Slight\",\"Serious\",\"Fatal\",\"Year\"]]\n",
    "\n",
    "plt.figure()\n",
    "ax = sorted_df.plot.bar(x=\"Year\", stacked=True, color={\"Slight\":\"green\",\"Serious\":\"orange\",\"Fatal\":\"red\"})\n",
    "ax2 = traffic_vol_df[[\"All motor vehicles\"]].plot(kind=\"line\", y=\"All motor vehicles\", linestyle=\"-\", secondary_y=True, ax=ax)\n",
    "\n",
    "\n",
    "plt.title('Year vs Accidents')\n",
    "plt.xlabel(\"Year\")\n",
    "plt.ylabel(\"Accident counts\")\n",
    "plt.legend(loc=\"best\")\n",
    "\n",
    "plt.show()"
   ]
  },
  {
   "cell_type": "code",
   "execution_count": 17,
   "id": "9720886a",
   "metadata": {},
   "outputs": [
    {
     "data": {
      "text/html": [
       "<div>\n",
       "<style scoped>\n",
       "    .dataframe tbody tr th:only-of-type {\n",
       "        vertical-align: middle;\n",
       "    }\n",
       "\n",
       "    .dataframe tbody tr th {\n",
       "        vertical-align: top;\n",
       "    }\n",
       "\n",
       "    .dataframe thead th {\n",
       "        text-align: right;\n",
       "    }\n",
       "</style>\n",
       "<table border=\"1\" class=\"dataframe\">\n",
       "  <thead>\n",
       "    <tr style=\"text-align: right;\">\n",
       "      <th>Severity</th>\n",
       "      <th>Year</th>\n",
       "      <th>Fatal</th>\n",
       "      <th>Serious</th>\n",
       "      <th>Slight</th>\n",
       "      <th>Total</th>\n",
       "    </tr>\n",
       "  </thead>\n",
       "  <tbody>\n",
       "    <tr>\n",
       "      <th>0</th>\n",
       "      <td>2010</td>\n",
       "      <td>1193</td>\n",
       "      <td>13195</td>\n",
       "      <td>92313</td>\n",
       "      <td>106701</td>\n",
       "    </tr>\n",
       "    <tr>\n",
       "      <th>1</th>\n",
       "      <td>2011</td>\n",
       "      <td>1250</td>\n",
       "      <td>13680</td>\n",
       "      <td>91390</td>\n",
       "      <td>106320</td>\n",
       "    </tr>\n",
       "    <tr>\n",
       "      <th>2</th>\n",
       "      <td>2012</td>\n",
       "      <td>1112</td>\n",
       "      <td>13727</td>\n",
       "      <td>88086</td>\n",
       "      <td>102925</td>\n",
       "    </tr>\n",
       "    <tr>\n",
       "      <th>3</th>\n",
       "      <td>2013</td>\n",
       "      <td>1132</td>\n",
       "      <td>13160</td>\n",
       "      <td>86421</td>\n",
       "      <td>100713</td>\n",
       "    </tr>\n",
       "    <tr>\n",
       "      <th>4</th>\n",
       "      <td>2014</td>\n",
       "      <td>1175</td>\n",
       "      <td>14096</td>\n",
       "      <td>91528</td>\n",
       "      <td>106799</td>\n",
       "    </tr>\n",
       "    <tr>\n",
       "      <th>5</th>\n",
       "      <td>2015</td>\n",
       "      <td>1220</td>\n",
       "      <td>14784</td>\n",
       "      <td>93669</td>\n",
       "      <td>109673</td>\n",
       "    </tr>\n",
       "    <tr>\n",
       "      <th>6</th>\n",
       "      <td>2016</td>\n",
       "      <td>1480</td>\n",
       "      <td>18177</td>\n",
       "      <td>97817</td>\n",
       "      <td>117474</td>\n",
       "    </tr>\n",
       "  </tbody>\n",
       "</table>\n",
       "</div>"
      ],
      "text/plain": [
       "Severity  Year  Fatal  Serious  Slight   Total\n",
       "0         2010   1193    13195   92313  106701\n",
       "1         2011   1250    13680   91390  106320\n",
       "2         2012   1112    13727   88086  102925\n",
       "3         2013   1132    13160   86421  100713\n",
       "4         2014   1175    14096   91528  106799\n",
       "5         2015   1220    14784   93669  109673\n",
       "6         2016   1480    18177   97817  117474"
      ]
     },
     "execution_count": 17,
     "metadata": {},
     "output_type": "execute_result"
    }
   ],
   "source": [
    "acc_tot = accident_sev_yr\n",
    "acc_tot[\"Total\"] = acc_tot[\"Fatal\"]+acc_tot[\"Serious\"]+acc_tot[\"Slight\"]\n",
    "acc_tot"
   ]
  },
  {
   "cell_type": "code",
   "execution_count": null,
   "id": "541b0198",
   "metadata": {},
   "outputs": [],
   "source": []
  }
 ],
 "metadata": {
  "kernelspec": {
   "display_name": "Python 3",
   "language": "python",
   "name": "python3"
  },
  "language_info": {
   "codemirror_mode": {
    "name": "ipython",
    "version": 3
   },
   "file_extension": ".py",
   "mimetype": "text/x-python",
   "name": "python",
   "nbconvert_exporter": "python",
   "pygments_lexer": "ipython3",
   "version": "3.8.8"
  }
 },
 "nbformat": 4,
 "nbformat_minor": 5
}
